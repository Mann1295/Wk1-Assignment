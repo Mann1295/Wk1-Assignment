{
 "cells": [
  {
   "cell_type": "raw",
   "id": "f4b32f4a-d2d5-4fa7-b253-c7d569192bac",
   "metadata": {},
   "source": [
    "Q4. Create a list of length 10 of your choice containing multiple types of data. Using for loop print the\n",
    "element and its data type."
   ]
  },
  {
   "cell_type": "code",
   "execution_count": 13,
   "id": "09667040-2881-425c-a9e0-fea16c45293b",
   "metadata": {},
   "outputs": [],
   "source": [
    "a = [2, 1.2, 3+1j, \"P\", \"W\", \"S\", \"K\", \"i\", \"l\", \"l\"]"
   ]
  },
  {
   "cell_type": "code",
   "execution_count": 15,
   "id": "609ef3a2-b505-436a-aed2-612198a1f5a2",
   "metadata": {},
   "outputs": [
    {
     "name": "stdout",
     "output_type": "stream",
     "text": [
      "<class 'int'>\n",
      "2\n",
      "<class 'float'>\n",
      "1.2\n",
      "<class 'complex'>\n",
      "(3+1j)\n",
      "<class 'str'>\n",
      "P\n",
      "<class 'str'>\n",
      "W\n",
      "<class 'str'>\n",
      "S\n",
      "<class 'str'>\n",
      "K\n",
      "<class 'str'>\n",
      "i\n",
      "<class 'str'>\n",
      "l\n",
      "<class 'str'>\n",
      "l\n"
     ]
    }
   ],
   "source": [
    "for b in a:\n",
    "    print(type(b))\n",
    "    print(b)"
   ]
  },
  {
   "cell_type": "code",
   "execution_count": null,
   "id": "3890356c-80b4-4310-9489-bef4a3cf754a",
   "metadata": {},
   "outputs": [],
   "source": []
  }
 ],
 "metadata": {
  "kernelspec": {
   "display_name": "Python 3 (ipykernel)",
   "language": "python",
   "name": "python3"
  },
  "language_info": {
   "codemirror_mode": {
    "name": "ipython",
    "version": 3
   },
   "file_extension": ".py",
   "mimetype": "text/x-python",
   "name": "python",
   "nbconvert_exporter": "python",
   "pygments_lexer": "ipython3",
   "version": "3.10.8"
  }
 },
 "nbformat": 4,
 "nbformat_minor": 5
}
