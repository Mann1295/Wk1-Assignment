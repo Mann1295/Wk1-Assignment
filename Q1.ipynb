{
 "cells": [
  {
   "cell_type": "raw",
   "id": "f816d8c6-60ac-4ff5-8859-44db4c7d570a",
   "metadata": {},
   "source": [
    "Q1. Create one variable containing following type of data:\n",
    "(i) string\n",
    "(ii) list\n",
    "(iii) float\n",
    "(iv) tuple"
   ]
  },
  {
   "cell_type": "code",
   "execution_count": 2,
   "id": "a44c8673-885c-4864-a4fc-108d18c6ee13",
   "metadata": {},
   "outputs": [],
   "source": [
    "a = 'Manish'"
   ]
  },
  {
   "cell_type": "code",
   "execution_count": 3,
   "id": "5175b24d-a6f4-4516-a587-130fa973c24b",
   "metadata": {},
   "outputs": [],
   "source": [
    "a1 = \"PWskills\""
   ]
  },
  {
   "cell_type": "code",
   "execution_count": 4,
   "id": "7a4067cf-3a58-4226-8f1d-6a14df412421",
   "metadata": {},
   "outputs": [
    {
     "data": {
      "text/plain": [
       "str"
      ]
     },
     "execution_count": 4,
     "metadata": {},
     "output_type": "execute_result"
    }
   ],
   "source": [
    "type(a)"
   ]
  },
  {
   "cell_type": "code",
   "execution_count": 5,
   "id": "7a2ce1d5-fcac-4873-abb9-3655ecc9f431",
   "metadata": {},
   "outputs": [
    {
     "data": {
      "text/plain": [
       "str"
      ]
     },
     "execution_count": 5,
     "metadata": {},
     "output_type": "execute_result"
    }
   ],
   "source": [
    "type(a1)"
   ]
  },
  {
   "cell_type": "code",
   "execution_count": 15,
   "id": "8e9ee0e5-1d79-4fd5-b565-75c65f95beb7",
   "metadata": {},
   "outputs": [],
   "source": [
    "b = [1,22,3.44,5+6j,\"Mann\",]"
   ]
  },
  {
   "cell_type": "code",
   "execution_count": 17,
   "id": "05eca9f3-63ba-45ec-bf42-18c805c74883",
   "metadata": {},
   "outputs": [
    {
     "data": {
      "text/plain": [
       "list"
      ]
     },
     "execution_count": 17,
     "metadata": {},
     "output_type": "execute_result"
    }
   ],
   "source": [
    "type(b)"
   ]
  },
  {
   "cell_type": "code",
   "execution_count": 21,
   "id": "a05260a7-3a97-4491-b708-a2385110d329",
   "metadata": {},
   "outputs": [],
   "source": [
    "c = b[2]"
   ]
  },
  {
   "cell_type": "code",
   "execution_count": 22,
   "id": "95eb2a3e-99c1-463f-b0b4-6a228005c0ed",
   "metadata": {},
   "outputs": [
    {
     "data": {
      "text/plain": [
       "float"
      ]
     },
     "execution_count": 22,
     "metadata": {},
     "output_type": "execute_result"
    }
   ],
   "source": [
    "type(c)"
   ]
  },
  {
   "cell_type": "code",
   "execution_count": 23,
   "id": "e1b04fad-c811-4f7c-91fa-f127007b8fbb",
   "metadata": {},
   "outputs": [],
   "source": [
    "d = (1, 22, 3.22, 4+5j)"
   ]
  },
  {
   "cell_type": "code",
   "execution_count": 24,
   "id": "0328f3d6-6471-48b7-972b-2aebab8dda0a",
   "metadata": {},
   "outputs": [
    {
     "data": {
      "text/plain": [
       "tuple"
      ]
     },
     "execution_count": 24,
     "metadata": {},
     "output_type": "execute_result"
    }
   ],
   "source": [
    "type(d)"
   ]
  },
  {
   "cell_type": "code",
   "execution_count": null,
   "id": "a5c75323-ef0b-4ff7-a9bc-3e9d8117be0b",
   "metadata": {},
   "outputs": [],
   "source": []
  }
 ],
 "metadata": {
  "kernelspec": {
   "display_name": "Python 3 (ipykernel)",
   "language": "python",
   "name": "python3"
  },
  "language_info": {
   "codemirror_mode": {
    "name": "ipython",
    "version": 3
   },
   "file_extension": ".py",
   "mimetype": "text/x-python",
   "name": "python",
   "nbconvert_exporter": "python",
   "pygments_lexer": "ipython3",
   "version": "3.10.8"
  }
 },
 "nbformat": 4,
 "nbformat_minor": 5
}
