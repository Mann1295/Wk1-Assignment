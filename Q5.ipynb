{
 "cells": [
  {
   "cell_type": "raw",
   "id": "f1c9557e-d280-4c44-a0d0-ace05d60bedc",
   "metadata": {},
   "source": [
    "Q5. Using a while loop, verify if the number A is purely divisible by number B and if so then how many\n",
    "times it can be divisible."
   ]
  },
  {
   "cell_type": "code",
   "execution_count": 3,
   "id": "0abefb83-3fd7-4fee-b73e-863e3008e7dc",
   "metadata": {},
   "outputs": [],
   "source": [
    "A = 200\n",
    "B = 5\n",
    "while A%B  :\n",
    "    if A%B==0:\n",
    "        print(A)"
   ]
  },
  {
   "cell_type": "code",
   "execution_count": null,
   "id": "c69b6d4f-53ec-49b8-85a3-ff05386ef65c",
   "metadata": {},
   "outputs": [],
   "source": []
  }
 ],
 "metadata": {
  "kernelspec": {
   "display_name": "Python 3 (ipykernel)",
   "language": "python",
   "name": "python3"
  },
  "language_info": {
   "codemirror_mode": {
    "name": "ipython",
    "version": 3
   },
   "file_extension": ".py",
   "mimetype": "text/x-python",
   "name": "python",
   "nbconvert_exporter": "python",
   "pygments_lexer": "ipython3",
   "version": "3.10.8"
  }
 },
 "nbformat": 4,
 "nbformat_minor": 5
}
