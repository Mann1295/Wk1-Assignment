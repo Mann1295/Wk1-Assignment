{
 "cells": [
  {
   "cell_type": "raw",
   "id": "d856f0a9-3be6-4bc7-8d14-07a47e1adaeb",
   "metadata": {},
   "source": [
    "Q7. What do you understand about mutable and immutable data types? Give examples for both showing\n",
    "this property."
   ]
  },
  {
   "cell_type": "markdown",
   "id": "eacd72c6-c9da-4410-b43e-ed82d5b1a96a",
   "metadata": {},
   "source": [
    "Mutable - changes is allow in data \n",
    "immutable - Cahnges not allow in data"
   ]
  },
  {
   "cell_type": "code",
   "execution_count": 5,
   "id": "95efbc53-6172-49fa-99f8-793c494290f9",
   "metadata": {},
   "outputs": [],
   "source": [
    "a = [1,22,3.44,4+5j, \"Mann\"]"
   ]
  },
  {
   "cell_type": "code",
   "execution_count": 3,
   "id": "6482c3e1-b2ec-45b0-a87a-a6c10fd60960",
   "metadata": {},
   "outputs": [],
   "source": [
    "a[2]=6.77"
   ]
  },
  {
   "cell_type": "code",
   "execution_count": 4,
   "id": "6780248d-4205-4acf-a659-1f0fffad8aff",
   "metadata": {},
   "outputs": [
    {
     "name": "stdout",
     "output_type": "stream",
     "text": [
      "[1, 22, 6.77, (4+5j), 'Mann']\n"
     ]
    }
   ],
   "source": [
    "print(a)"
   ]
  },
  {
   "cell_type": "code",
   "execution_count": 6,
   "id": "4ae212a3-b0b6-435e-abda-8b73290c6e5f",
   "metadata": {},
   "outputs": [],
   "source": [
    "b = (\"Mann\")"
   ]
  },
  {
   "cell_type": "code",
   "execution_count": 7,
   "id": "604748b8-c9a1-4267-8733-8b04da646c79",
   "metadata": {},
   "outputs": [
    {
     "ename": "TypeError",
     "evalue": "'str' object does not support item assignment",
     "output_type": "error",
     "traceback": [
      "\u001b[0;31m---------------------------------------------------------------------------\u001b[0m",
      "\u001b[0;31mTypeError\u001b[0m                                 Traceback (most recent call last)",
      "Cell \u001b[0;32mIn[7], line 1\u001b[0m\n\u001b[0;32m----> 1\u001b[0m \u001b[43mb\u001b[49m\u001b[43m[\u001b[49m\u001b[38;5;241;43m2\u001b[39;49m\u001b[43m]\u001b[49m\u001b[38;5;241m=\u001b[39ma\n",
      "\u001b[0;31mTypeError\u001b[0m: 'str' object does not support item assignment"
     ]
    }
   ],
   "source": [
    "b[2]=a"
   ]
  },
  {
   "cell_type": "code",
   "execution_count": null,
   "id": "661b0c77-b773-475e-bdee-fe2b235f2d50",
   "metadata": {},
   "outputs": [],
   "source": []
  }
 ],
 "metadata": {
  "kernelspec": {
   "display_name": "Python 3 (ipykernel)",
   "language": "python",
   "name": "python3"
  },
  "language_info": {
   "codemirror_mode": {
    "name": "ipython",
    "version": 3
   },
   "file_extension": ".py",
   "mimetype": "text/x-python",
   "name": "python",
   "nbconvert_exporter": "python",
   "pygments_lexer": "ipython3",
   "version": "3.10.8"
  }
 },
 "nbformat": 4,
 "nbformat_minor": 5
}
